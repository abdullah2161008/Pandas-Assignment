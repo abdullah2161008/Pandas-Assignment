{
 "cells": [
  {
   "cell_type": "markdown",
   "id": "f0a000c3",
   "metadata": {},
   "source": [
    "Q1. Create a Pandas Series that contains the following data: 4, 8, 15, 16, 23, and 42. Then, print the series."
   ]
  },
  {
   "cell_type": "code",
   "execution_count": 1,
   "id": "aed65c11",
   "metadata": {},
   "outputs": [
    {
     "name": "stdout",
     "output_type": "stream",
     "text": [
      "0     4\n",
      "1     8\n",
      "2    15\n",
      "3    16\n",
      "4    23\n",
      "5    42\n",
      "dtype: int64\n"
     ]
    }
   ],
   "source": [
    "import pandas as pd\n",
    " \n",
    "\n",
    "ser = pd.Series([4,8,15,16,23,42])\n",
    " \n",
    "print(ser)"
   ]
  },
  {
   "cell_type": "code",
   "execution_count": null,
   "id": "ed3fb86d",
   "metadata": {},
   "outputs": [],
   "source": []
  },
  {
   "cell_type": "markdown",
   "id": "87901168",
   "metadata": {},
   "source": [
    "Q2. Create a variable of list type containing 10 elements in it, and apply pandas.Series function on the\n",
    "variable print it."
   ]
  },
  {
   "cell_type": "code",
   "execution_count": 2,
   "id": "c4dd9a06",
   "metadata": {},
   "outputs": [
    {
     "name": "stdout",
     "output_type": "stream",
     "text": [
      "0     10\n",
      "1     20\n",
      "2     30\n",
      "3     40\n",
      "4     50\n",
      "5     60\n",
      "6     70\n",
      "7     80\n",
      "8     90\n",
      "9    100\n",
      "dtype: int64\n"
     ]
    }
   ],
   "source": [
    "var=[10,20,30,40,50,60,70,80,90,100]\n",
    "\n",
    "ser=pd.Series(var)\n",
    "print(ser)"
   ]
  },
  {
   "cell_type": "code",
   "execution_count": null,
   "id": "337c495d",
   "metadata": {},
   "outputs": [],
   "source": []
  },
  {
   "cell_type": "markdown",
   "id": "91c031f7",
   "metadata": {},
   "source": [
    "Q3. Create a Pandas DataFrame that contains the following data:\n",
    "\n",
    "Then, print the DataFrame."
   ]
  },
  {
   "cell_type": "code",
   "execution_count": 10,
   "id": "5458a1c2",
   "metadata": {},
   "outputs": [
    {
     "name": "stdout",
     "output_type": "stream",
     "text": [
      "     Name  Age  Gender\n",
      "0   Alica   25  Female\n",
      "1     Bob   30    Male\n",
      "2  Claire   27  Female\n"
     ]
    }
   ],
   "source": [
    "import pandas as pd\n",
    "data=[[\"Alica\",25,\"Female\"],[\"Bob\",30,\"Male\"],[\"Claire\",27,\"Female\"]]\n",
    "\n",
    "df=pd.DataFrame(data,columns=[\"Name\",\"Age\",\"Gender\"])\n",
    "print(df)"
   ]
  },
  {
   "cell_type": "code",
   "execution_count": null,
   "id": "14471637",
   "metadata": {},
   "outputs": [],
   "source": []
  },
  {
   "cell_type": "markdown",
   "id": "d0ad9739",
   "metadata": {},
   "source": [
    "Q4. What is ‘DataFrame’ in pandas and how is it different from pandas.series? Explain with an example."
   ]
  },
  {
   "cell_type": "code",
   "execution_count": 12,
   "id": "b35da38c",
   "metadata": {},
   "outputs": [
    {
     "name": "stdout",
     "output_type": "stream",
     "text": [
      "0     10\n",
      "1     20\n",
      "2     30\n",
      "3     40\n",
      "4     50\n",
      "5     60\n",
      "6     70\n",
      "7     80\n",
      "8     90\n",
      "9    100\n",
      "dtype: int64\n",
      "     Name  Age  Gender\n",
      "0   Alica   25  Female\n",
      "1     Bob   30    Male\n",
      "2  Claire   27  Female\n"
     ]
    }
   ],
   "source": [
    "\"\"\"A DataFrame in pandas is a two-dimensional, tabular data structure, similar to a spreadsheet. It consists of rows and columns, and each column is essentially a pandas Series. A Series, on the other hand, is a one-dimensional array-like object. In essence\n",
    "a DataFrame is a collection of Series\"\"\"\n",
    "#Series example\n",
    "var=[10,20,30,40,50,60,70,80,90,100]\n",
    "\n",
    "ser=pd.Series(var)\n",
    "print(ser)\n",
    "\n",
    "#data frame example\n",
    "import pandas as pd\n",
    "data=[[\"Alica\",25,\"Female\"],[\"Bob\",30,\"Male\"],[\"Claire\",27,\"Female\"]]\n",
    "\n",
    "df=pd.DataFrame(data,columns=[\"Name\",\"Age\",\"Gender\"])\n",
    "print(df)"
   ]
  },
  {
   "cell_type": "code",
   "execution_count": null,
   "id": "d94cc671",
   "metadata": {},
   "outputs": [],
   "source": []
  },
  {
   "cell_type": "markdown",
   "id": "bf774034",
   "metadata": {},
   "source": [
    "Q5. What are some common functions you can use to manipulate data in a Pandas DataFrame? Can\n",
    "you give an example of when you might use one of these functions?"
   ]
  },
  {
   "cell_type": "code",
   "execution_count": null,
   "id": "aef3451e",
   "metadata": {},
   "outputs": [],
   "source": [
    "\"\"\"Pandas provides a variety of functions for data manipulation in a DataFrame.\n",
    "\n",
    "1-head() and tail(): Display the first or last n rows of the DataFrame.\n",
    "2-info(): Provides a concise summary of the DataFrame, including data types and missing values.\n",
    "3-describe(): Generates descriptive statistics of the DataFrame, such as count, mean, std deviation, min, max, etc.\n",
    "4-loc[] and iloc[]: Used for label-based or integer-location based indexing to access a group of rows and columns.\"\"\""
   ]
  },
  {
   "cell_type": "code",
   "execution_count": null,
   "id": "216c0573",
   "metadata": {},
   "outputs": [],
   "source": []
  },
  {
   "cell_type": "markdown",
   "id": "d75fbe1b",
   "metadata": {},
   "source": [
    "Q6. Which of the following is mutable in nature Series, DataFrame, Panel?"
   ]
  },
  {
   "cell_type": "code",
   "execution_count": 13,
   "id": "3821ddd5",
   "metadata": {},
   "outputs": [
    {
     "data": {
      "text/plain": [
       "'In pandas, Series, DataFrame, and Panel are all mutable in nature, meaning their elements can be modified after creation.'"
      ]
     },
     "execution_count": 13,
     "metadata": {},
     "output_type": "execute_result"
    }
   ],
   "source": [
    "\"In pandas, Series, DataFrame, and Panel are all mutable in nature, meaning their elements can be modified after creation.\""
   ]
  },
  {
   "cell_type": "code",
   "execution_count": null,
   "id": "ff98301f",
   "metadata": {},
   "outputs": [],
   "source": []
  },
  {
   "cell_type": "markdown",
   "id": "56870bd0",
   "metadata": {},
   "source": [
    "Q7. Create a DataFrame using multiple Series. Explain with an example."
   ]
  },
  {
   "cell_type": "code",
   "execution_count": 33,
   "id": "ca256f08",
   "metadata": {},
   "outputs": [
    {
     "name": "stdout",
     "output_type": "stream",
     "text": [
      "      Names  Roll No\n",
      "0  Abdullah  2233404\n",
      "1      khan  2233129\n",
      "2     ahmad  2233234\n",
      "3    hashir  2233490\n"
     ]
    }
   ],
   "source": [
    "import pandas as pd\n",
    "\n",
    "names = [\"Abdullah\", \"khan\", \"ahmad\", \"hashir\"]\n",
    "roll_no = [2233404, 2233129, 2233234, 2233490]\n",
    "\n",
    "ser1 = pd.Series(names)\n",
    "ser2 = pd.Series(roll_no)\n",
    "data = [ser1, ser2]\n",
    "\n",
    "\n",
    "df = pd.concat([ser1, ser2],axis=1, keys=[\"Names\", \"Roll No\"])\n",
    "print(df)\n",
    "\n"
   ]
  },
  {
   "cell_type": "code",
   "execution_count": null,
   "id": "e3bd8857",
   "metadata": {},
   "outputs": [],
   "source": []
  }
 ],
 "metadata": {
  "kernelspec": {
   "display_name": "Python 3 (ipykernel)",
   "language": "python",
   "name": "python3"
  },
  "language_info": {
   "codemirror_mode": {
    "name": "ipython",
    "version": 3
   },
   "file_extension": ".py",
   "mimetype": "text/x-python",
   "name": "python",
   "nbconvert_exporter": "python",
   "pygments_lexer": "ipython3",
   "version": "3.10.9"
  }
 },
 "nbformat": 4,
 "nbformat_minor": 5
}
